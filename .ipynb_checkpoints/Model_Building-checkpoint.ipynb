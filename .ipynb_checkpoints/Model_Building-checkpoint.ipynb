{
 "cells": [
  {
   "cell_type": "code",
   "execution_count": 3,
   "id": "4a779f8b",
   "metadata": {},
   "outputs": [],
   "source": [
    "import numpy as np # linear algebra\n",
    "import pandas as pd # data processing, CSV file I/O (e.g. pd.read_csv)\n",
    "import seaborn as sns \n",
    "import matplotlib.pyplot as plt"
   ]
  },
  {
   "cell_type": "code",
   "execution_count": 4,
   "id": "863ac467",
   "metadata": {},
   "outputs": [],
   "source": [
    "all_dummies_scaled = pd.read_csv(\"preprocessed_data.csv\")\n",
    "all_data = pd.read_csv(\"all_data.csv\")"
   ]
  },
  {
   "cell_type": "code",
   "execution_count": 5,
   "id": "2831e360",
   "metadata": {},
   "outputs": [],
   "source": [
    "X_train_scaled = all_dummies_scaled[all_dummies_scaled.train_test == 1].drop(['train_test'], axis =1)\n",
    "X_test_scaled = all_dummies_scaled[all_dummies_scaled.train_test == 0].drop(['train_test'], axis =1)\n",
    "\n",
    "y_train = all_data[all_data.train_test==1].Survived"
   ]
  },
  {
   "cell_type": "markdown",
   "id": "e2c0cd28",
   "metadata": {},
   "source": [
    "# Model Building (Baseline Validation Performance)¶\n",
    "\n",
    "Before going further, I like to see how various different models perform with default parameters. I tried the following models using 5 fold cross validation to get a baseline. With a validation set basline, we can see how much tuning improves each of the models. Just because a model has a high basline on this validation set doesn't mean that it will actually do better on the eventual test set.\n",
    "\n",
    "## Naive Bayes (75.3%)\n",
    "## Logistic Regression (82.0%)\n",
    "## Decision Tree (76.2%)\n",
    "## K Nearest Neighbor (50.2%)\n",
    "## Random Forest (81.5%)\n",
    "## Support Vector Classifier (61.7%)\n",
    "## Soft Voting Classifier - All Models (77.6%)"
   ]
  },
  {
   "cell_type": "code",
   "execution_count": 6,
   "id": "233d3cd0",
   "metadata": {},
   "outputs": [],
   "source": [
    "from sklearn.model_selection import cross_val_score\n",
    "from sklearn.naive_bayes import GaussianNB\n",
    "from sklearn.linear_model import LogisticRegression\n",
    "from sklearn.tree import DecisionTreeClassifier\n",
    "from sklearn.neighbors import KNeighborsClassifier\n",
    "from sklearn.ensemble import RandomForestClassifier\n",
    "from sklearn.svm import SVC\n",
    "from sklearn.ensemble import VotingClassifier"
   ]
  },
  {
   "cell_type": "code",
   "execution_count": 7,
   "id": "8e28bc62",
   "metadata": {},
   "outputs": [
    {
     "name": "stdout",
     "output_type": "stream",
     "text": [
      "[0.70224719 0.73595506 0.78089888 0.76404494 0.77966102]\n",
      "0.7525614168729766\n"
     ]
    }
   ],
   "source": [
    "#I usually use Naive Bayes as a baseline for my classification tasks \n",
    "\n",
    "gnb = GaussianNB()\n",
    "cv = cross_val_score(gnb,X_train_scaled,y_train,cv=5)\n",
    "print(cv)\n",
    "print(cv.mean())"
   ]
  },
  {
   "cell_type": "code",
   "execution_count": 8,
   "id": "1ca12d29",
   "metadata": {},
   "outputs": [
    {
     "name": "stdout",
     "output_type": "stream",
     "text": [
      "[0.81460674 0.80898876 0.80337079 0.82022472 0.85310734]\n",
      "0.8200596711737447\n"
     ]
    }
   ],
   "source": [
    "lr = LogisticRegression( max_iter=1000)\n",
    "cv = cross_val_score(lr,X_train_scaled,y_train,cv=5)\n",
    "print(cv)\n",
    "print(cv.mean())"
   ]
  },
  {
   "cell_type": "code",
   "execution_count": 9,
   "id": "ed53cc62",
   "metadata": {},
   "outputs": [
    {
     "name": "stdout",
     "output_type": "stream",
     "text": [
      "[0.61797753 0.79213483 0.78651685 0.78089888 0.72881356]\n",
      "0.7412683298419348\n"
     ]
    }
   ],
   "source": [
    "dt = DecisionTreeClassifier()\n",
    "cv = cross_val_score(dt,X_train_scaled,y_train,cv=5)\n",
    "print(cv)\n",
    "print(cv.mean())"
   ]
  },
  {
   "cell_type": "code",
   "execution_count": 10,
   "id": "15798700",
   "metadata": {},
   "outputs": [
    {
     "name": "stdout",
     "output_type": "stream",
     "text": [
      "[0.61797753 0.38202247 0.46067416 0.43258427 0.61581921]\n",
      "0.5018155272011681\n"
     ]
    }
   ],
   "source": [
    "knn = KNeighborsClassifier()\n",
    "cv = cross_val_score(knn,X_train_scaled,y_train,cv=5)\n",
    "print(cv)\n",
    "print(cv.mean())"
   ]
  },
  {
   "cell_type": "code",
   "execution_count": 11,
   "id": "5bf0effb",
   "metadata": {},
   "outputs": [
    {
     "name": "stdout",
     "output_type": "stream",
     "text": [
      "[0.78089888 0.79775281 0.85393258 0.79213483 0.83050847]\n",
      "0.8110455151399734\n"
     ]
    }
   ],
   "source": [
    "rf = RandomForestClassifier()\n",
    "cv = cross_val_score(rf,X_train_scaled,y_train,cv=5)\n",
    "print(cv)\n",
    "print(cv.mean())"
   ]
  },
  {
   "cell_type": "code",
   "execution_count": 12,
   "id": "c728bba3",
   "metadata": {},
   "outputs": [
    {
     "name": "stdout",
     "output_type": "stream",
     "text": [
      "[0.61797753 0.61797753 0.61797753 0.61797753 0.61581921]\n",
      "0.6175458642798197\n"
     ]
    }
   ],
   "source": [
    "svc = SVC(probability=True)\n",
    "cv = cross_val_score(svc,X_train_scaled,y_train,cv=5)\n",
    "print(cv)\n",
    "print(cv.mean())"
   ]
  },
  {
   "cell_type": "code",
   "execution_count": 13,
   "id": "23f31820",
   "metadata": {},
   "outputs": [
    {
     "name": "stdout",
     "output_type": "stream",
     "text": [
      "[0.73033708 0.78089888 0.79213483 0.76966292 0.79661017]\n",
      "0.7739287754713389\n"
     ]
    }
   ],
   "source": [
    "#Voting classifier takes all of the inputs and averages the results. For a \"hard\" voting classifier each classifier gets 1 vote \"yes\" or \"no\" and the result is just a popular vote. For this, you generally want odd numbers\n",
    "#A \"soft\" classifier averages the confidence of each of the models. If a the average confidence is > 50% that it is a 1 it will be counted as such\n",
    "\n",
    "\n",
    "voting_clf = VotingClassifier(estimators = [('lr',lr),('knn',knn),('rf',rf),('gnb',gnb),\n",
    "                                            ('svc',svc)], voting = 'soft')\n",
    "cv = cross_val_score(voting_clf,X_train_scaled,y_train,cv=5)\n",
    "print(cv)\n",
    "print(cv.mean())"
   ]
  },
  {
   "cell_type": "markdown",
   "id": "7d1c82dd",
   "metadata": {},
   "source": [
    "# Model Tuned Performance\n",
    "\n",
    "After getting the baselines, let's see if we can improve on the indivdual model results!I mainly used grid search to tune the models. I also used Randomized Search for the Random Forest  to simplify testing time."
   ]
  },
  {
   "cell_type": "code",
   "execution_count": 14,
   "id": "868c59c5",
   "metadata": {},
   "outputs": [],
   "source": [
    "from sklearn.model_selection import GridSearchCV\n",
    "from sklearn.model_selection import RandomizedSearchCV"
   ]
  },
  {
   "cell_type": "code",
   "execution_count": 16,
   "id": "55dea1d7",
   "metadata": {},
   "outputs": [],
   "source": [
    "#simple performance reporting function\n",
    "\n",
    "def clf_performance(classifier,model_name):\n",
    "    print('Model Name : ',model_name)\n",
    "    print(\"Best Score : \" + str(classifier.best_score_))\n",
    "    print(\"Best Parameters : \" + str(classifier.best_params_))"
   ]
  },
  {
   "cell_type": "code",
   "execution_count": 25,
   "id": "0a6300b8",
   "metadata": {},
   "outputs": [
    {
     "name": "stdout",
     "output_type": "stream",
     "text": [
      "Model Name :  Logistic Regression\n",
      "Best Score : 0.8245667491906303\n",
      "Best Parameters : {'C': 1.623776739188721, 'max_iter': 1000, 'penalty': 'l1', 'solver': 'liblinear'}\n"
     ]
    }
   ],
   "source": [
    "lr = LogisticRegression()\n",
    "param_grid = {'penalty': ['l1','l2'],\n",
    "              'max_iter' : [1000],\n",
    "              'C' : np.logspace(-4,4,20),\n",
    "              'solver' : ['liblinear'] \n",
    "             }\n",
    "clf_lr = GridSearchCV(lr,param_grid=param_grid)\n",
    "best_clf_lr = clf_lr.fit(X_train_scaled,y_train)\n",
    "clf_performance(best_clf_lr,'Logistic Regression')"
   ]
  },
  {
   "cell_type": "code",
   "execution_count": 26,
   "id": "cbfc2b6a",
   "metadata": {},
   "outputs": [
    {
     "name": "stdout",
     "output_type": "stream",
     "text": [
      "Model Name :  K Neighbors Classifier\n",
      "Best Score : 0.5332762013584713\n",
      "Best Parameters : {'algorithm': 'auto', 'n_neighbors': 7, 'p': 1, 'weights': 'distance'}\n"
     ]
    }
   ],
   "source": [
    "knn = KNeighborsClassifier()\n",
    "param_grid = {'n_neighbors' : [3,5,7],\n",
    "              'weights' : ['uniform','distance'],\n",
    "              'algorithm' : ['auto', 'ball_tree','kd_tree'],\n",
    "              'p' : [1,2]   \n",
    "}\n",
    "clf_knn = GridSearchCV(knn,param_grid=param_grid)\n",
    "best_clf_knn = clf_knn.fit(X_train_scaled,y_train)\n",
    "clf_performance(best_clf_knn,'K Neighbors Classifier')"
   ]
  },
  {
   "cell_type": "code",
   "execution_count": 27,
   "id": "1a3e3a20",
   "metadata": {},
   "outputs": [
    {
     "name": "stdout",
     "output_type": "stream",
     "text": [
      "Model Name :  K Neighbors Classifier\n",
      "Best Score : 0.8211705706849489\n",
      "Best Parameters : {'C': 0.1, 'kernel': 'linear'}\n"
     ]
    }
   ],
   "source": [
    "svc = SVC()\n",
    "param_grid = [{'kernel': ['rbf'], 'gamma': [.1,.5,1,2,5,10],'C': [.1, 1, 10, 100, 1000]},\n",
    "              {'kernel': ['linear'], 'C': [.1, 1, 10, 100, 1000]},\n",
    "              {'kernel': ['poly'], 'degree' : [2,3,4,5], 'C': [.1, 1, 10, 100, 1000]}  \n",
    "             ]\n",
    "clf_svc = GridSearchCV(svc,param_grid=param_grid)\n",
    "best_clf_svc = clf_svc.fit(X_train_scaled,y_train)\n",
    "clf_performance(best_clf_svc,'K Neighbors Classifier')"
   ]
  },
  {
   "cell_type": "code",
   "execution_count": 29,
   "id": "469ea1af",
   "metadata": {},
   "outputs": [
    {
     "name": "stdout",
     "output_type": "stream",
     "text": [
      "Model Name :  Random Forest Classifier\n",
      "Best Score : 0.8268139402018664\n",
      "Best Parameters : {'n_estimators': 100, 'min_samples_split': 5, 'min_samples_leaf': 2, 'max_features': 'auto', 'max_depth': 75, 'bootstrap': True}\n"
     ]
    }
   ],
   "source": [
    "#Because the total feature space is so large, I used a randomized search to narrow down the paramters for the model. I took the best model from this and did a more granular search \n",
    "\n",
    "rf = RandomForestClassifier()\n",
    "param_grid =  {'n_estimators': [100,500,1000], \n",
    "               'bootstrap': [True,False],\n",
    "               'max_depth': [3,5,10,20,50,75,100,None],\n",
    "               'max_features': ['auto','sqrt'],\n",
    "               'min_samples_leaf': [1,2,4,10],\n",
    "               'min_samples_split': [2,5,10]\n",
    "              }\n",
    "clf_rf_rnd = RandomizedSearchCV(rf,param_distributions = param_grid)\n",
    "best_clf_rf_rnd = clf_rf_rnd.fit(X_train_scaled,y_train)\n",
    "clf_performance(best_clf_rf_rnd,'Random Forest Classifier')"
   ]
  },
  {
   "cell_type": "code",
   "execution_count": 31,
   "id": "fcce56ec",
   "metadata": {},
   "outputs": [
    {
     "name": "stdout",
     "output_type": "stream",
     "text": [
      "Model Name :  Random Forest Classifier\n",
      "Best Score : 0.8335555132355742\n",
      "Best Parameters : {'bootstrap': True, 'max_depth': 50, 'max_features': 'auto', 'min_samples_leaf': 2, 'min_samples_split': 5, 'n_estimators': 150}\n"
     ]
    }
   ],
   "source": [
    "rf = RandomForestClassifier()\n",
    "param_grid =  {'n_estimators': [100,150], \n",
    "               'bootstrap': [True],\n",
    "               'max_depth': [50,75,100,None],\n",
    "               'max_features': ['auto'],\n",
    "               'min_samples_leaf': [1,2],\n",
    "               'min_samples_split': [5,10]\n",
    "              }\n",
    "clf_rf = GridSearchCV(rf,param_grid = param_grid)\n",
    "best_clf_rf = clf_rf.fit(X_train_scaled,y_train)\n",
    "clf_performance(best_clf_rf,'Random Forest Classifier')"
   ]
  },
  {
   "cell_type": "code",
   "execution_count": 36,
   "id": "ff6a7a79",
   "metadata": {},
   "outputs": [
    {
     "data": {
      "text/plain": [
       "<AxesSubplot:>"
      ]
     },
     "execution_count": 36,
     "metadata": {},
     "output_type": "execute_result"
    },
    {
     "data": {
      "image/png": "[encoded data removed]",
      "text/plain": [
       "<Figure size 432x288 with 1 Axes>"
      ]
     },
     "metadata": {
      "needs_background": "light"
     },
     "output_type": "display_data"
    }
   ],
   "source": [
    "best_rf = best_clf_rf.best_estimator_.fit(X_train_scaled,y_train)\n",
    "feat_importances = pd.Series(best_rf.feature_importances_, index=X_train_scaled.columns)\n",
    "feat_importances.nlargest(20).plot(kind='barh')\n"
   ]
  },
  {
   "cell_type": "code",
   "execution_count": null,
   "id": "cfafd8bf",
   "metadata": {},
   "outputs": [],
   "source": []
  }
 ],
 "metadata": {
  "kernelspec": {
   "display_name": "Python 3",
   "language": "python",
   "name": "python3"
  },
  "language_info": {
   "codemirror_mode": {
    "name": "ipython",
    "version": 3
   },
   "file_extension": ".py",
   "mimetype": "text/x-python",
   "name": "python",
   "nbconvert_exporter": "python",
   "pygments_lexer": "ipython3",
   "version": "3.8.8"
  }
 },
 "nbformat": 4,
 "nbformat_minor": 5
}
